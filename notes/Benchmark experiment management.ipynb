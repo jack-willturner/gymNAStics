{
 "cells": [
  {
   "cell_type": "markdown",
   "id": "276a316f",
   "metadata": {},
   "source": [
    "Trying to figure out what an experiment manager could look like for doing a sweep over the various benchmarks."
   ]
  },
  {
   "cell_type": "code",
   "execution_count": 1,
   "id": "dbf2e747",
   "metadata": {},
   "outputs": [],
   "source": [
    "import pandas as pd"
   ]
  },
  {
   "cell_type": "code",
   "execution_count": 2,
   "id": "313db512",
   "metadata": {},
   "outputs": [],
   "source": [
    "# some dummy benchmarks \n",
    "\n",
    "class NASBench101:\n",
    "    def get_accuracy(self):\n",
    "        return 1.\n",
    "    \n",
    "class NASBench201:\n",
    "    def get_accuracy(self):\n",
    "        # cifar10 (test, val)\n",
    "        # cifar100 (test, val)\n",
    "        # imagenet (test, val)\n",
    "        return 1., 1., 1., 1., 1., 1.\n",
    "    \n",
    "class NASBench301:\n",
    "    def get_accuracy(self):\n",
    "        return 1."
   ]
  },
  {
   "cell_type": "code",
   "execution_count": null,
   "id": "17f1f011",
   "metadata": {},
   "outputs": [],
   "source": [
    "\n",
    "                "
   ]
  }
 ],
 "metadata": {
  "kernelspec": {
   "display_name": "Python 3",
   "language": "python",
   "name": "python3"
  },
  "language_info": {
   "codemirror_mode": {
    "name": "ipython",
    "version": 3
   },
   "file_extension": ".py",
   "mimetype": "text/x-python",
   "name": "python",
   "nbconvert_exporter": "python",
   "pygments_lexer": "ipython3",
   "version": "3.8.10"
  }
 },
 "nbformat": 4,
 "nbformat_minor": 5
}
